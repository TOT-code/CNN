{
 "cells": [
  {
   "cell_type": "code",
   "execution_count": 2,
   "id": "bfe3eee8",
   "metadata": {},
   "outputs": [],
   "source": [
    "import numpy\n",
    "import os\n",
    "import torch\n",
    "from torch.utils.data import DataLoader\n",
    "from torch.utils.data import Dataset\n",
    "from torch import nn\n",
    "from torch.nn import Sequential, Conv1d, MaxPool1d, Flatten, Linear,ReLU\n",
    "from torch.utils.tensorboard import SummaryWriter"
   ]
  },
  {
   "cell_type": "code",
   "execution_count": 18,
   "id": "bec73b3c",
   "metadata": {},
   "outputs": [],
   "source": [
    "class Net(nn.Module):\n",
    "    def __init__(self):\n",
    "        super(Net, self).__init__()\n",
    "        self.model1 = Sequential(\n",
    "            Conv1d(1, 16, 11),\n",
    "            Conv1d(16, 16, 3),\n",
    "            Conv1d(16, 16, 3),\n",
    "            MaxPool1d(3),\n",
    "            Conv1d(16, 64, 3),\n",
    "            Conv1d(64, 64,3),\n",
    "            MaxPool1d(3),\n",
    "            Conv1d(64, 64,3),\n",
    "            Conv1d(64, 64,3),\n",
    "            MaxPool1d(3),\n",
    "            Flatten(),\n",
    "            Linear(448*16, 64),\n",
    "            Linear(64, 3),\n",
    "            ReLU()\n",
    "        )\n",
    "\n",
    "    def forward(self, x):\n",
    "        x = self.model1(x)\n",
    "        return x"
   ]
  },
  {
   "cell_type": "code",
   "execution_count": null,
   "id": "f6a287d1",
   "metadata": {},
   "outputs": [],
   "source": []
  }
 ],
 "metadata": {
  "kernelspec": {
   "display_name": "Python [conda env:root] *",
   "language": "python",
   "name": "conda-root-py"
  },
  "language_info": {
   "codemirror_mode": {
    "name": "ipython",
    "version": 3
   },
   "file_extension": ".py",
   "mimetype": "text/x-python",
   "name": "python",
   "nbconvert_exporter": "python",
   "pygments_lexer": "ipython3",
   "version": "3.8.8"
  }
 },
 "nbformat": 4,
 "nbformat_minor": 5
}
