{
 "cells": [
  {
   "cell_type": "code",
   "execution_count": 2,
   "id": "e3d53288",
   "metadata": {},
   "outputs": [],
   "source": [
    "import numpy\n",
    "import os\n",
    "from torch.utils.data import DataLoader\n",
    "from torch.utils.data import Dataset"
   ]
  },
  {
   "cell_type": "code",
   "execution_count": 5,
   "id": "be9c21b7",
   "metadata": {},
   "outputs": [
    {
     "name": "stdout",
     "output_type": "stream",
     "text": [
      "tensor([[[-0.2684,  0.0855, -1.4364]],\n",
      "\n",
      "        [[-0.1651, -0.9112,  0.4551]],\n",
      "\n",
      "        [[ 0.1912, -0.1594,  0.9220]]])\n",
      "a: torch.Size([3, 1, 3])\n",
      "c: torch.Size([3, 1, 2])\n"
     ]
    }
   ],
   "source": [
    "import torch\n",
    "import torch.nn as nn\n",
    "# 输入源：3个样本，1个通道，3个数据\n",
    "a = torch.randn(3,1,3)\n",
    "print(a)\n",
    "# 卷积：输入通道为1，输出通道为1，卷积核大小 2\n",
    "conv = nn.Conv1d(1, 1, 2)\n",
    "c = conv(a)\n",
    "print('a:', a.size())\n",
    "print('c:', c.size())"
   ]
  },
  {
   "cell_type": "code",
   "execution_count": null,
   "id": "0d8ce03a",
   "metadata": {},
   "outputs": [],
   "source": []
  }
 ],
 "metadata": {
  "kernelspec": {
   "display_name": "Python [conda env:root] *",
   "language": "python",
   "name": "conda-root-py"
  },
  "language_info": {
   "codemirror_mode": {
    "name": "ipython",
    "version": 3
   },
   "file_extension": ".py",
   "mimetype": "text/x-python",
   "name": "python",
   "nbconvert_exporter": "python",
   "pygments_lexer": "ipython3",
   "version": "3.8.8"
  }
 },
 "nbformat": 4,
 "nbformat_minor": 5
}
