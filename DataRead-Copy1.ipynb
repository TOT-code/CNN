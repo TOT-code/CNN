{
 "cells": [
  {
   "cell_type": "code",
   "execution_count": 1,
   "id": "c18e690e",
   "metadata": {},
   "outputs": [],
   "source": [
    "import numpy\n",
    "import os\n",
    "import torch\n",
    "from torch.utils.data import DataLoader\n",
    "from torch.utils.data import Dataset\n",
    "from torch import nn\n",
    "from torch.nn import Sequential, Conv1d, MaxPool1d, Flatten, Linear,ReLU,Softmax,Tanh\n",
    "from torch.utils.tensorboard import SummaryWriter"
   ]
  },
  {
   "cell_type": "code",
   "execution_count": 13,
   "id": "6504cc9d",
   "metadata": {},
   "outputs": [],
   "source": [
    "class MyData(Dataset):\n",
    "\n",
    "    def __init__(self, root_dir, label_dir):\n",
    "        self.root_dir = root_dir\n",
    "        self.label_dir = label_dir\n",
    "        self.path = os.path.join(self.root_dir, self.label_dir)\n",
    "        self.data_path = os.listdir(self.path)\n",
    "\n",
    "    def __getitem__(self, idx):\n",
    "        txt_name = self.data_path[idx]\n",
    "        data_item_path = os.path.join(self.root_dir, self.label_dir, txt_name)\n",
    "        data = numpy.loadtxt(data_item_path)\n",
    "        print(data)\n",
    "        #list = []\n",
    "        #data = list.append(data)\n",
    "        \n",
    "        label = self.label_dir\n",
    "        return data, label\n",
    "\n",
    "    def __len__(self):\n",
    "        return len(self.data_path)\n",
    "\n",
    "    \n",
    "class Net(nn.Module):\n",
    "    def __init__(self):\n",
    "        super(Net, self).__init__()\n",
    "        self.model1 = Sequential(\n",
    "            Conv1d(1, 16, kernel_size=11),\n",
    "            Conv1d(16, 16, kernel_size=3),\n",
    "            Conv1d(16, 16, kernel_size=3),\n",
    "            MaxPool1d(3),\n",
    "            Conv1d(16, 64, kernel_size=3),\n",
    "            Conv1d(64, 64,kernel_size=3),\n",
    "            MaxPool1d(3),\n",
    "            Conv1d(64, 64,kernel_size=3),\n",
    "            Conv1d(64, 64,kernel_size=3),\n",
    "            MaxPool1d(3),\n",
    "            Flatten(),\n",
    "            Linear(448, 64),\n",
    "            Linear(64, 3)\n",
    "        )\n",
    "\n",
    "    def forward(self, x):\n",
    "        x = self.model1(x)\n",
    "        return x"
   ]
  },
  {
   "cell_type": "code",
   "execution_count": 14,
   "id": "11fb3aa4",
   "metadata": {},
   "outputs": [],
   "source": [
    "train_data_dir = 'E:\\\\1D-Data\\\\train\\\\'\n",
    "test_data_dir = 'E:\\\\1D-Data\\\\val\\\\'\n",
    "bus_label_dir = 'bus'\n",
    "car_label_dir = 'car'\n",
    "man_label_dir = 'man'"
   ]
  },
  {
   "cell_type": "code",
   "execution_count": 15,
   "id": "90ddac8c",
   "metadata": {},
   "outputs": [],
   "source": [
    "train_bus_data = MyData(train_data_dir,bus_label_dir)\n",
    "train_car_data = MyData(train_data_dir,car_label_dir)\n",
    "train_man_data = MyData(train_data_dir,man_label_dir)\n",
    "train_data = train_bus_data+train_car_data+train_man_data"
   ]
  },
  {
   "cell_type": "code",
   "execution_count": 6,
   "id": "3b73f482",
   "metadata": {},
   "outputs": [],
   "source": [
    "test_bus_data = MyData(test_data_dir,bus_label_dir)\n",
    "test_car_data = MyData(test_data_dir,car_label_dir)\n",
    "test_man_data = MyData(test_data_dir,man_label_dir)\n",
    "test_data = test_bus_data+test_car_data+test_man_data"
   ]
  },
  {
   "cell_type": "code",
   "execution_count": 8,
   "id": "9c9ea796",
   "metadata": {},
   "outputs": [],
   "source": [
    "Data_loader_train = torch.utils.data.DataLoader(train_data, batch_size=4, shuffle=True)  # 训练集\n",
    "Data_loader_test = torch.utils.data.DataLoader(test_data, batch_size=4, shuffle=True)  # 测试集"
   ]
  },
  {
   "cell_type": "code",
   "execution_count": 9,
   "id": "078807f4",
   "metadata": {},
   "outputs": [
    {
     "name": "stdout",
     "output_type": "stream",
     "text": [
      "训练数据集长度：1818\n",
      "测试数据集长度：390\n"
     ]
    }
   ],
   "source": [
    "# 获取数据集长度\n",
    "dataset_train_size = len(Data_loader_train)\n",
    "dataset_test_size = len(Data_loader_test)\n",
    "print(\"训练数据集长度：{}\".format(dataset_train_size))\n",
    "print(\"测试数据集长度：{}\".format(dataset_test_size))"
   ]
  },
  {
   "cell_type": "code",
   "execution_count": 10,
   "id": "c830b091",
   "metadata": {},
   "outputs": [],
   "source": [
    "OneD_nn = Net()"
   ]
  },
  {
   "cell_type": "code",
   "execution_count": 11,
   "id": "01b561c4",
   "metadata": {},
   "outputs": [],
   "source": [
    "# 损失函数\n",
    "loss = nn.CrossEntropyLoss()\n",
    "\n",
    "# 优化器\n",
    "learn_rate = 1e-2\n",
    "optimizer = torch.optim.SGD(OneD_nn.parameters(), lr=learn_rate)\n",
    "\n",
    "# 设置训练网络参数\n",
    "# 记录训练次数\n",
    "total_train_step = 0\n",
    "# 记录测试次数\n",
    "total_test_step = 0\n",
    "# 训练的轮数\n",
    "epoch = 30\n",
    "# 添加tensorboard\n",
    "# writer = SummaryWriter(\"log\")\n"
   ]
  },
  {
   "cell_type": "code",
   "execution_count": 12,
   "id": "b8fe5b29",
   "metadata": {},
   "outputs": [
    {
     "name": "stdout",
     "output_type": "stream",
     "text": [
      "----第 1 轮训练开始----\n"
     ]
    },
    {
     "ename": "ValueError",
     "evalue": "too many dimensions 'str'",
     "output_type": "error",
     "traceback": [
      "\u001b[1;31m--------------------------------------------------------------------------\u001b[0m",
      "\u001b[1;31mValueError\u001b[0m                               Traceback (most recent call last)",
      "\u001b[1;32m<ipython-input-12-d1782c0f0f3f>\u001b[0m in \u001b[0;36m<module>\u001b[1;34m\u001b[0m\n\u001b[0;32m     19\u001b[0m             \u001b[0mtargets\u001b[0m \u001b[1;33m=\u001b[0m \u001b[1;33m[\u001b[0m\u001b[1;36m2\u001b[0m\u001b[1;33m]\u001b[0m\u001b[1;33m\u001b[0m\u001b[1;33m\u001b[0m\u001b[0m\n\u001b[0;32m     20\u001b[0m \u001b[1;33m\u001b[0m\u001b[0m\n\u001b[1;32m---> 21\u001b[1;33m         \u001b[0mtargets\u001b[0m \u001b[1;33m=\u001b[0m \u001b[0mtorch\u001b[0m\u001b[1;33m.\u001b[0m\u001b[0mLongTensor\u001b[0m\u001b[1;33m(\u001b[0m\u001b[0mtargets\u001b[0m\u001b[1;33m)\u001b[0m\u001b[1;33m\u001b[0m\u001b[1;33m\u001b[0m\u001b[0m\n\u001b[0m\u001b[0;32m     22\u001b[0m         \u001b[1;31m#print(datas)\u001b[0m\u001b[1;33m\u001b[0m\u001b[1;33m\u001b[0m\u001b[1;33m\u001b[0m\u001b[0m\n\u001b[0;32m     23\u001b[0m         \u001b[0moutput_x\u001b[0m \u001b[1;33m=\u001b[0m \u001b[0mOneD_nn\u001b[0m\u001b[1;33m(\u001b[0m\u001b[0mdatas\u001b[0m\u001b[1;33m)\u001b[0m\u001b[1;33m\u001b[0m\u001b[1;33m\u001b[0m\u001b[0m\n",
      "\u001b[1;31mValueError\u001b[0m: too many dimensions 'str'"
     ]
    }
   ],
   "source": [
    "\n",
    "for i in range(epoch):\n",
    "    print(\"----第 {} 轮训练开始----\".format(i + 1))\n",
    "\n",
    "    # 训练步骤开始\n",
    "    OneD_nn.train()  # 有dropout和normlizer层需要调用\n",
    "    for data in Data_loader_train:\n",
    "        datas, targets = data\n",
    "        \n",
    "        list = []\n",
    "        datas = datas.numpy().tolist()\n",
    "        list.append(datas)\n",
    "        datas=torch.Tensor(list)\n",
    "        \n",
    "        if targets == ('bus',):\n",
    "            targets = [0]\n",
    "        elif targets == ('car',):\n",
    "            targets = [1]\n",
    "        elif targets == ('man',):\n",
    "            targets = [2] \n",
    "        \n",
    "        targets = torch.LongTensor(targets)\n",
    "        #print(datas)\n",
    "        output_x = OneD_nn(datas)\n",
    "        #print(targets)\n",
    "        #print(output_x)\n",
    "        loss_x = loss(output_x, targets)\n",
    "\n",
    "        # 优化器优化模型\n",
    "        optimizer.zero_grad()  # 梯度清0\n",
    "        loss_x.backward()  # 求解grad梯度\n",
    "        optimizer.step()  # 更新weight\n",
    "\n",
    "        total_train_step = total_train_step + 1\n",
    "        if total_train_step % 100 == 0:\n",
    "            print(\"训练次数：{}，Loss：{} \".format(total_train_step, loss_x.item()))\n",
    "            writer.add_scalar(\"train_loss\", loss_x.item(), total_train_step)\n",
    "\n",
    "    # 测试步骤开始\n",
    "    OneD_nn.eval()  # 同理\n",
    "    total_test_loss = 0\n",
    "    total_accuracy = 0\n",
    "    with torch.no_grad():\n",
    "        for data in Data_loader_test:\n",
    "            datas, targets = data\n",
    "            \n",
    "            #datas = numpy.transpose(datas)\n",
    "            list = []\n",
    "            datas = datas.numpy().tolist()\n",
    "            list.append(datas)\n",
    "            datas=torch.Tensor(list)\n",
    "            \n",
    "            if targets == ('bus',):\n",
    "                targets = [0]\n",
    "            elif targets == ('car',):\n",
    "                targets = [1]\n",
    "            elif targets == ('man',):\n",
    "                targets = [2] \n",
    "                \n",
    "            targets = torch.LongTensor(targets)\n",
    "            \n",
    "            output_x = OneD_nn(datas)\n",
    "            loss_x = loss(output_x, targets)\n",
    "            total_test_loss = total_test_loss + loss_x.item()\n",
    "            accuracy = (output_x.argmax(1) == targets).sum()\n",
    "            total_accuracy = total_accuracy + accuracy\n",
    "    print(\"整体测试集上的loss：{}\".format(total_test_loss))\n",
    "    print(\"整体测试集上的正确率：{}\".format(total_accuracy / dataset_test_size))\n",
    "    writer.add_scalar(\"test_loss\", total_test_loss, total_test_step)\n",
    "    writer.add_scalar(\"test_accuracy\", total_accuracy / dataset_test_size, total_test_step)\n",
    "    total_test_step = total_test_step + 1\n",
    "    if i == epoch-1:\n",
    "        torch.save(OneD_nn, \"OneD_nn_{}.pth\".format(i))\n",
    "    # torch.save(xjl_nn.state_dict(),\"xjl_nn_{}.pth\".format(i))\n",
    "    print(\"模型已保存\")\n",
    "\n",
    "writer.close()\n"
   ]
  },
  {
   "cell_type": "code",
   "execution_count": null,
   "id": "a4d61366",
   "metadata": {},
   "outputs": [],
   "source": []
  },
  {
   "cell_type": "code",
   "execution_count": null,
   "id": "d30b1bb0",
   "metadata": {},
   "outputs": [],
   "source": []
  }
 ],
 "metadata": {
  "kernelspec": {
   "display_name": "Python [conda env:root] *",
   "language": "python",
   "name": "conda-root-py"
  },
  "language_info": {
   "codemirror_mode": {
    "name": "ipython",
    "version": 3
   },
   "file_extension": ".py",
   "mimetype": "text/x-python",
   "name": "python",
   "nbconvert_exporter": "python",
   "pygments_lexer": "ipython3",
   "version": "3.8.8"
  }
 },
 "nbformat": 4,
 "nbformat_minor": 5
}
