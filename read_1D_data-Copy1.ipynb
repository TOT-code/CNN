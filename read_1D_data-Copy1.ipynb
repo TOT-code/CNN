{
 "cells": [
  {
   "cell_type": "code",
   "execution_count": 26,
   "id": "19b523f9",
   "metadata": {},
   "outputs": [],
   "source": [
    "import os\n",
    "import numpy\n",
    "import torch"
   ]
  },
  {
   "cell_type": "code",
   "execution_count": 27,
   "id": "936063b6",
   "metadata": {},
   "outputs": [
    {
     "data": {
      "text/plain": [
       "1024"
      ]
     },
     "execution_count": 27,
     "metadata": {},
     "output_type": "execute_result"
    }
   ],
   "source": [
    "# 获取文件个数\n",
    "DIR = 'E:\\\\1D-Data\\\\data_test'\n",
    "len_dir = len(os.listdir(DIR))\n",
    "len_dir"
   ]
  },
  {
   "cell_type": "code",
   "execution_count": 28,
   "id": "12c53ba5",
   "metadata": {},
   "outputs": [],
   "source": [
    "# 读取文件于列表存储\n",
    "list_bus = []\n",
    "for i in range(len_dir):\n",
    "    k = str(i+1)\n",
    "    num = k.zfill(5)\n",
    "    path = DIR+'\\\\'+num+'.txt'\n",
    "    my_data = numpy.loadtxt(path)\n",
    "    list_bus.append(my_data)"
   ]
  },
  {
   "cell_type": "code",
   "execution_count": 29,
   "id": "24eb920b",
   "metadata": {},
   "outputs": [
    {
     "data": {
      "text/plain": [
       "1024"
      ]
     },
     "execution_count": 29,
     "metadata": {},
     "output_type": "execute_result"
    }
   ],
   "source": [
    "len(list_bus)"
   ]
  },
  {
   "cell_type": "code",
   "execution_count": 30,
   "id": "f7696000",
   "metadata": {},
   "outputs": [],
   "source": [
    "# 定义dataset\n",
    "class Dataset(torch.utils.data.Dataset):\n",
    "    # 一般为后面的函数（方法）提供参数\n",
    "    def __init__(self,data = None):\n",
    "        self.data = data\n",
    "        self.data_lengths = len(data)\n",
    "        \n",
    "    def __getitem__(self,index):\n",
    "        data = self.data[index]\n",
    "        src_data = data[:-1]\n",
    "        trg_data = data[1:]\n",
    "        \n",
    "        return src_data,trg_data\n",
    "    def __len__(self):\n",
    "        return self.data_lengths"
   ]
  },
  {
   "cell_type": "code",
   "execution_count": 31,
   "id": "7a52d9ac",
   "metadata": {},
   "outputs": [],
   "source": [
    "data  = torch.utils.data.DataLoader(dataset = Dataset(list_bus),\n",
    "                  batch_size = 4,\n",
    "                  shuffle =True)"
   ]
  },
  {
   "cell_type": "code",
   "execution_count": 32,
   "id": "cb6359b9",
   "metadata": {},
   "outputs": [
    {
     "data": {
      "text/plain": [
       "<torch.utils.data.dataloader.DataLoader at 0x18ba92b4700>"
      ]
     },
     "execution_count": 32,
     "metadata": {},
     "output_type": "execute_result"
    }
   ],
   "source": [
    "data"
   ]
  },
  {
   "cell_type": "code",
   "execution_count": 41,
   "id": "900d9a9a",
   "metadata": {},
   "outputs": [
    {
     "data": {
      "text/plain": [
       "[tensor([[0., 0., 0.,  ..., 0., 0., 0.],\n",
       "         [0., 0., 0.,  ..., 0., 0., 0.],\n",
       "         [0., 0., 0.,  ..., 0., 0., 0.],\n",
       "         [0., 0., 0.,  ..., 0., 0., 0.]], dtype=torch.float64),\n",
       " tensor([[0., 0., 0.,  ..., 0., 0., 0.],\n",
       "         [0., 0., 0.,  ..., 0., 0., 0.],\n",
       "         [0., 0., 0.,  ..., 0., 0., 0.],\n",
       "         [0., 0., 0.,  ..., 0., 0., 0.]], dtype=torch.float64)]"
      ]
     },
     "execution_count": 41,
     "metadata": {},
     "output_type": "execute_result"
    }
   ],
   "source": [
    "data_1"
   ]
  },
  {
   "cell_type": "code",
   "execution_count": null,
   "id": "20409bbf",
   "metadata": {},
   "outputs": [],
   "source": []
  }
 ],
 "metadata": {
  "kernelspec": {
   "display_name": "Python [conda env:root] *",
   "language": "python",
   "name": "conda-root-py"
  },
  "language_info": {
   "codemirror_mode": {
    "name": "ipython",
    "version": 3
   },
   "file_extension": ".py",
   "mimetype": "text/x-python",
   "name": "python",
   "nbconvert_exporter": "python",
   "pygments_lexer": "ipython3",
   "version": "3.8.8"
  }
 },
 "nbformat": 4,
 "nbformat_minor": 5
}
